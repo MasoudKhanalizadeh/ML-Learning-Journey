{
 "cells": [
  {
   "cell_type": "markdown",
   "id": "8d764e33",
   "metadata": {},
   "source": [
    "# Day 1 — NumPy Basics (Foundations, Phase 1)\n",
    "\n",
    "**Goals:**  \n",
    "- Understand deeply what NumPy arrays are and why they are important  \n",
    "- Learn arrays, dtypes, shapes in detail  \n",
    "- Indexing & slicing (1D/2D) with full explanation  \n",
    "- Reshape, view vs copy with memory model concepts  \n",
    "- Broadcasting with formal rules and math interpretation  \n",
    "- Vectorization vs loops with performance explanation  \n",
    "- Descriptive statistics & linear algebra basics with math meaning  \n",
    "- Random numbers with reproducibility and practical use cases  \n",
    "- Mini task with a CSV file to simulate dataset  \n",
    "\n",
    "> Estimated time: ~2–3 hours (reading + coding + exercises).\n"
   ]
  },
  {
   "cell_type": "markdown",
   "id": "9e32f8ab",
   "metadata": {},
   "source": [
    "## 0) Environment & Version\n",
    "\n",
    "Before starting, always check your library versions. This ensures consistency when sharing code.\n",
    "\n",
    "- `import numpy as np` : imports NumPy with alias `np`.  \n",
    "- `np.__version__` : shows which version is installed.  \n"
   ]
  },
  {
   "cell_type": "code",
   "execution_count": null,
   "id": "546a131e",
   "metadata": {},
   "outputs": [],
   "source": [
    "import numpy as np\n",
    "print('NumPy version:', np.__version__)"
   ]
  },
  {
   "cell_type": "markdown",
   "id": "a91b58c9",
   "metadata": {},
   "source": [
    "## 1) Arrays, dtypes, and shapes\n",
    "\n",
    "A **NumPy array** (ndarray) is the core data structure.\n",
    "\n",
    "### Key properties:\n",
    "- `shape`: tuple of dimensions. `(5,)` means vector of 5 elements. `(2,3)` means 2 rows, 3 columns.  \n",
    "- `ndim`: number of dimensions. 1D = vector, 2D = matrix, 3D+ = tensor.  \n",
    "- `dtype`: type of elements (int, float, complex, …).  \n",
    "- Stored in **contiguous memory**, unlike Python lists. This makes operations fast.\n",
    "\n",
    "### Why is this important?\n",
    "Machine Learning uses vectors, matrices, and tensors to represent data (features, weights, activations). NumPy arrays map directly to these concepts.\n"
   ]
  },
  {
   "cell_type": "code",
   "execution_count": null,
   "id": "9b21ac0a",
   "metadata": {},
   "outputs": [],
   "source": [
    "a = np.array([1,2,3,4,5])\n",
    "print('a:', a, '| shape:', a.shape, '| ndim:', a.ndim, '| dtype:', a.dtype)\n",
    "\n",
    "b = np.array([[1,2,3],[4,5,6]])\n",
    "print('b:\\n', b, '\\nshape:', b.shape, '| ndim:', b.ndim, '| dtype:', b.dtype)\n",
    "\n",
    "zeros = np.zeros((2,3))\n",
    "ones = np.ones((2,3))\n",
    "rng = np.arange(0,10,2)   # start, stop, step\n",
    "lin = np.linspace(0,1,5)  # evenly spaced\n",
    "zeros, ones, rng, lin"
   ]
  },
  {
   "cell_type": "markdown",
   "id": "f5a67e68",
   "metadata": {},
   "source": [
    "## 2) Indexing & Slicing\n",
    "\n",
    "Indexing extracts elements.  \n",
    "\n",
    "### Rules:\n",
    "- 1D arrays: like Python lists (`a[2]`).  \n",
    "- Slices: `a[start:stop:step]`. Stop is **exclusive**.  \n",
    "- 2D arrays: `a[row, col]`.  \n",
    "- `:` means \"all elements along that dimension\".\n",
    "\n",
    "**Math interpretation:**  \n",
    "For matrix \\(A\\), `A[i, j]` corresponds to element \\(a_{ij}\\).\n"
   ]
  },
  {
   "cell_type": "code",
   "execution_count": null,
   "id": "8e58fa22",
   "metadata": {},
   "outputs": [],
   "source": [
    "c = np.arange(10)\n",
    "print('c:', c)\n",
    "print('c[2]:', c[2])\n",
    "print('c[2:7]:', c[2:7])\n",
    "print('c[:5]:', c[:5])\n",
    "print('c[::2]:', c[::2])\n",
    "\n",
    "print('b[0,1]:', b[0,1])  # row 0, col 1\n",
    "print('b[:,1]:', b[:,1])  # all rows, col 1"
   ]
  },
  {
   "cell_type": "markdown",
   "id": "7ea6fb2e",
   "metadata": {},
   "source": [
    "## 3) Reshape, Views, and Copies\n",
    "\n",
    "`reshape` changes how data is *viewed*, not the data itself.\n",
    "\n",
    "- **View**: shares the same memory → fast, but risky. Changing one changes the other.  \n",
    "- **Copy**: separate memory. Use `.copy()` when you need independence.\n",
    "\n",
    "**Memory model:**  \n",
    "NumPy arrays are stored as a continuous block. `reshape` just interprets the same block with new dimensions.\n"
   ]
  },
  {
   "cell_type": "code",
   "execution_count": null,
   "id": "1e8c7aef",
   "metadata": {},
   "outputs": [],
   "source": [
    "d = np.arange(12)\n",
    "m = d.reshape(3,4)\n",
    "print('m shape:', m.shape, \"\\n\")\n",
    "print('m :\\n', m, \"\\n\")\n",
    "\n",
    "m[0,0] = 999\n",
    "print('d[0] after modifying m:', d[0], \"\\n\")\n",
    "\n",
    "m_copy = m.copy()\n",
    "m_copy[0,0] = -1\n",
    "print('m[0,0]:', m[0,0], '| m_copy[0,0]:', m_copy[0,0], \"\\n\")\n",
    "\n",
    "print('m :\\n', m, \"\\n\")\n",
    "print('m_copy :\\n', m_copy)"
   ]
  },
  {
   "cell_type": "code",
   "execution_count": null,
   "id": "a2ab2d33",
   "metadata": {},
   "outputs": [],
   "source": [
    "m = d.reshape(4,3)\n",
    "print('m shape:', m.shape, \"\\n\")\n",
    "print('m :\\n', m, \"\\n\")"
   ]
  },
  {
   "cell_type": "code",
   "execution_count": null,
   "id": "d57822f8",
   "metadata": {},
   "outputs": [],
   "source": [
    "\n",
    "m = d.reshape(1,12)\n",
    "print('m shape:', m.shape, \"\\n\")\n",
    "print('m :\\n', m, \"\\n\")"
   ]
  },
  {
   "cell_type": "markdown",
   "id": "b4760a2e",
   "metadata": {},
   "source": [
    "## 4) Broadcasting\n",
    "\n",
    "Broadcasting = automatic expansion to make shapes compatible.  \n",
    "\n",
    "### Rules:\n",
    "1. Align shapes from rightmost dimension.  \n",
    "2. If dimensions equal or one is 1 → compatible.  \n",
    "3. Else → error.\n",
    "\n",
    "**Example:**  \n",
    "Matrix (3×3) + vector (3,) → NumPy treats vector as (1×3), then replicates along rows.\n",
    "\n",
    "**Mathematical view:**  \n",
    "Equivalent to adding same vector to each row of a matrix.\n"
   ]
  },
  {
   "cell_type": "code",
   "execution_count": null,
   "id": "b7d5b25f",
   "metadata": {},
   "outputs": [],
   "source": [
    "X = np.ones((3,3))\n",
    "v = np.array([1,2,3])\n",
    "\n",
    "print('X:\\n', X, \"\\n\")\n",
    "print('v:\\n', v, \"\\n\")\n",
    "\n",
    "print('X Shape:\\n', X.shape, \"\\n\")\n",
    "print('v Shape:\\n', v.shape, \"\\n\")\n",
    "\n",
    "print('X + v:\\n', X + v, \"\\n\")"
   ]
  },
  {
   "cell_type": "markdown",
   "id": "29c91cf0",
   "metadata": {},
   "source": [
    "**More Example for Practice:**  "
   ]
  },
  {
   "cell_type": "code",
   "execution_count": null,
   "id": "0cc15bac",
   "metadata": {},
   "outputs": [],
   "source": [
    "A = np.ones((3,3))\n",
    "B = np.array([[1,2,3]])\n",
    "\n",
    "print('A:\\n', A, \"\\n\")\n",
    "print('B:\\n', B, \"\\n\")\n",
    "print('A Shape:\\n', A.shape)\n",
    "print('B Shape:\\n', B.shape, \"\\n\")\n",
    "\n",
    "A1 = np.ones((3,3))\n",
    "B1 = np.array([1,2,3]).reshape(3,1)\n",
    "\n",
    "print('A1:\\n', A1, \"\\n\")\n",
    "print('B1:\\n', B1, \"\\n\")\n",
    "print('A1 Shape:\\n', A1.shape)\n",
    "print('B1 Shape:\\n', B1.shape, \"\\n\")\n",
    "\n",
    "A2 = np.ones((3,3))\n",
    "B2 = np.array([1,2,3]).reshape(1,3)\n",
    "\n",
    "print('A2:\\n', A2, \"\\n\")\n",
    "print('B2:\\n', B2, \"\\n\")\n",
    "print('A2 Shape:\\n', A2.shape)\n",
    "print('B2 Shape:\\n', B2.shape, \"\\n\")"
   ]
  },
  {
   "cell_type": "code",
   "execution_count": 79,
   "id": "e98eece1",
   "metadata": {},
   "outputs": [
    {
     "name": "stdout",
     "output_type": "stream",
     "text": [
      "A:\n",
      " [[0 1 2]\n",
      " [3 4 5]] \n",
      "\n",
      "B:\n",
      " [[0]\n",
      " [1]] \n",
      "\n",
      "A Shape:\n",
      " (2, 3) \n",
      "\n",
      "B Shape:\n",
      " (2, 1) \n",
      "\n",
      "A + B:\n",
      " [[0 1 2]\n",
      " [4 5 6]] \n",
      "\n"
     ]
    }
   ],
   "source": [
    "A = np.arange(6).reshape(2,3)\n",
    "B = np.arange(2).reshape(2,1)\n",
    "\n",
    "print('A:\\n', A, \"\\n\")\n",
    "print('B:\\n', B, \"\\n\")\n",
    "\n",
    "print('A Shape:\\n', A.shape, \"\\n\")\n",
    "print('B Shape:\\n', B.shape, \"\\n\")\n",
    "\n",
    "print('A + B:\\n', A + B, \"\\n\")"
   ]
  },
  {
   "cell_type": "markdown",
   "id": "fb684a56",
   "metadata": {},
   "source": [
    "## 5) Vectorization vs Loops\n",
    "\n",
    "Vectorization = apply operation to whole arrays.  \n",
    "Loops = apply step by step.  \n",
    "\n",
    "**Performance reason:**  \n",
    "- Vectorization uses optimized C and SIMD instructions.  \n",
    "- Loops are interpreted in Python, slower.\n",
    "\n",
    "**Math example:**  \n",
    "Compute \\(y = x^2 + 2x + 1\\) for 100k values.\n"
   ]
  },
  {
   "cell_type": "code",
   "execution_count": 81,
   "id": "7b4ef2e3",
   "metadata": {},
   "outputs": [
    {
     "name": "stdout",
     "output_type": "stream",
     "text": [
      "x: [    0     1     2 ... 99997 99998 99999] \n",
      "\n",
      "Equal? True\n"
     ]
    }
   ],
   "source": [
    "x = np.arange(100_000)\n",
    "print('x:', x, \"\\n\")    \n",
    "y_vec = x*x + 2*x + 1\n",
    "\n",
    "def poly_slow(xx):\n",
    "    out = []\n",
    "    for t in xx:\n",
    "        out.append(t*t + 2*t + 1)\n",
    "    return np.array(out)\n",
    "\n",
    "y_slow = poly_slow(x)\n",
    "print('Equal?', np.allclose(y_vec, y_slow))"
   ]
  },
  {
   "cell_type": "markdown",
   "id": "9aa43351",
   "metadata": {},
   "source": [
    "## 6) Descriptive Statistics\n",
    "\n",
    "Statistics summarize data.  \n",
    "\n",
    "- **mean**: $\\mu = \\frac{1}{n}\\sum x_i$  \n",
    "- **std**: $\\sqrt{\\frac{1}{n}\\sum (x_i-\\mu)^2}$  \n",
    "- **percentile**: quantiles of distribution.\n",
    "\n",
    "\n",
    "**Usage in ML:** normalization, feature scaling, evaluation metrics.\n"
   ]
  },
  {
   "cell_type": "code",
   "execution_count": 92,
   "id": "02b38c3f",
   "metadata": {},
   "outputs": [
    {
     "name": "stdout",
     "output_type": "stream",
     "text": [
      "mean: 5.714285714285714 | std: 2.8139593719417437 | min: 2 | max: 10\n",
      "argmin: 2 | argmax: 5\n",
      "percentiles: [3.5 5.  8. ]\n"
     ]
    }
   ],
   "source": [
    "arr = np.array([3,7,2,9,5,10,4])\n",
    "print('mean:', arr.mean(), '| std:', arr.std(), '| min:', arr.min(), '| max:', arr.max())\n",
    "print('argmin:', arr.argmin(), '| argmax:', arr.argmax())\n",
    "print('percentiles:', np.percentile(arr, [25,50,75]))"
   ]
  },
  {
   "cell_type": "markdown",
   "id": "d628d0fd",
   "metadata": {},
   "source": [
    "## 7) Linear Algebra\n",
    "\n",
    "Linear Algebra = backbone of ML.  \n",
    "\n",
    "- **Matrix-vector multiplication**: `@`  \n",
    "- **Determinant**: scaling factor of transformation  \n",
    "- **Inverse**: matrix that undoes transformation\n",
    "\n",
    "**ML link:** weights × inputs, solving linear systems, optimization.\n"
   ]
  },
  {
   "cell_type": "code",
   "execution_count": null,
   "id": "84ff2350",
   "metadata": {},
   "outputs": [],
   "source": [
    "M = np.array([[2,0],[0,3]])\n",
    "v = np.array([5,1])\n",
    "\n",
    "print('M @ v =', M @ v)\n",
    "print('det(M) =', np.linalg.det(M))\n",
    "print('inv(M) =', np.linalg.inv(M))"
   ]
  },
  {
   "cell_type": "markdown",
   "id": "90cf3e9d",
   "metadata": {},
   "source": [
    "## 8) Random Numbers & Reproducibility\n",
    "\n",
    "Randomness is essential in ML (initial weights, shuffling, dropout).  \n",
    "\n",
    "- `default_rng(seed)`: new generator.  \n",
    "- `normal`: Gaussian distribution.  \n",
    "- `integers`: uniform integers.  \n",
    "- **Seed** ensures reproducibility → critical for experiments.\n"
   ]
  },
  {
   "cell_type": "code",
   "execution_count": null,
   "id": "8499eba3",
   "metadata": {},
   "outputs": [],
   "source": [
    "rng = np.random.default_rng(seed=42)\n",
    "print('Normal samples:', rng.normal(0,1,5))\n",
    "print('Integer samples:', rng.integers(0,10,5))"
   ]
  },
  {
   "cell_type": "markdown",
   "id": "6092be46",
   "metadata": {},
   "source": [
    "## 9) Mini Task: CSV\n",
    "\n",
    "We simulate a dataset (tiny CSV).  \n",
    "\n",
    "Steps:  \n",
    "1. Create CSV with (id, value).  \n",
    "2. Load with `genfromtxt`.  \n",
    "3. Compute mean & sum.\n",
    "\n",
    "This is a small-scale dataset handling task, similar to real ML preprocessing.\n"
   ]
  },
  {
   "cell_type": "code",
   "execution_count": null,
   "id": "2f8851cd",
   "metadata": {},
   "outputs": [],
   "source": [
    "import os, csv\n",
    "\n",
    "os.makedirs('data', exist_ok=True)\n",
    "csv_path = os.path.join('data','toy.csv')\n",
    "with open(csv_path,'w',newline='') as f:\n",
    "    w = csv.writer(f)\n",
    "    w.writerow(['id','value'])\n",
    "    w.writerows([[1,10],[2,20],[3,35],[4,50]])\n",
    "\n",
    "data = np.genfromtxt(csv_path, delimiter=',', names=True)\n",
    "vals = data['value']\n",
    "print('values:', vals)\n",
    "print('mean:', np.mean(vals), '| sum:', np.sum(vals))"
   ]
  },
  {
   "cell_type": "markdown",
   "id": "06560849",
   "metadata": {},
   "source": [
    "# ✅ Summary\n",
    "\n",
    "- Arrays = vectors/matrices/tensors in math  \n",
    "- Shapes/dtypes = structure of data  \n",
    "- Indexing/slicing = precise selection of elements  \n",
    "- Reshape = flexible views, copy = safe independence  \n",
    "- Broadcasting = extend smaller arrays to bigger ones mathematically  \n",
    "- Vectorization = speed with array operations  \n",
    "- Statistics + Linear Algebra = ML math foundation  \n",
    "- Random numbers = reproducibility of experiments  \n",
    "- CSV = step into dataset handling\n"
   ]
  }
 ],
 "metadata": {
  "kernelspec": {
   "display_name": "Python 3",
   "language": "python",
   "name": "python3"
  },
  "language_info": {
   "codemirror_mode": {
    "name": "ipython",
    "version": 3
   },
   "file_extension": ".py",
   "mimetype": "text/x-python",
   "name": "python",
   "nbconvert_exporter": "python",
   "pygments_lexer": "ipython3",
   "version": "3.13.7"
  }
 },
 "nbformat": 4,
 "nbformat_minor": 5
}
