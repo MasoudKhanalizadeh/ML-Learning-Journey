{
 "cells": [
  {
   "cell_type": "code",
   "execution_count": null,
   "id": "19f87bdd",
   "metadata": {},
   "outputs": [],
   "source": [
    "import numpy as np\n",
    "\n",
    "# Create array from list"
   ]
  }
 ],
 "metadata": {
  "language_info": {
   "name": "python"
  }
 },
 "nbformat": 4,
 "nbformat_minor": 5
}
